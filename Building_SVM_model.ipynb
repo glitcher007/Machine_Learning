{
  "nbformat": 4,
  "nbformat_minor": 0,
  "metadata": {
    "colab": {
      "provenance": [],
      "authorship_tag": "ABX9TyMXsq4jbVHKDsVD+DcDQsRH",
      "include_colab_link": true
    },
    "kernelspec": {
      "name": "python3",
      "display_name": "Python 3"
    },
    "language_info": {
      "name": "python"
    }
  },
  "cells": [
    {
      "cell_type": "markdown",
      "metadata": {
        "id": "view-in-github",
        "colab_type": "text"
      },
      "source": [
        "<a href=\"https://colab.research.google.com/github/glitcher007/pyTorch_learning/blob/main/Building_SVM_model.ipynb\" target=\"_parent\"><img src=\"https://colab.research.google.com/assets/colab-badge.svg\" alt=\"Open In Colab\"/></a>"
      ]
    },
    {
      "cell_type": "markdown",
      "source": [
        "Equation of the Hyperplane:\n",
        "\n",
        "y = wx - b\n",
        "\n",
        "Gradient Descent:\n",
        "\n",
        "Gradient Descent is an optimization algorithm used for minimizing the loss function in various machine learning algorithms. It is used for updating the parameters of the learning model.\n",
        "\n",
        "w = w - α*dw\n",
        "\n",
        "b = b - α*db\n",
        "\n",
        "Learning Rate:\n",
        "\n",
        "Learning rate is a tuning parameter in an optimization algorithm that determines the step size at each iteration while moving toward a minimum of a loss function."
      ],
      "metadata": {
        "id": "LWDKVsxOu9NU"
      }
    },
    {
      "cell_type": "code",
      "execution_count": 1,
      "metadata": {
        "id": "FzH-dzaduoBP"
      },
      "outputs": [],
      "source": [
        "import numpy as np\n"
      ]
    },
    {
      "cell_type": "markdown",
      "source": [
        "Support vector classifier"
      ],
      "metadata": {
        "id": "Kn3I6lYO4y2P"
      }
    },
    {
      "cell_type": "code",
      "source": [
        "class SVM_classifier():\n",
        "  #unitiating the hyperparametrs\n",
        "  def __init__(self,learning_rate,no_of_iterations,lamda_parameter):\n",
        "    self.learning_rate=learning_rate\n",
        "    self.no_of_iterations=no_of_iterations\n",
        "    self.lamda_parameter=lamda_parameter\n",
        "\n",
        "  def fit(self,X,Y):\n",
        "    #m--> no of data poimte -->no of rows\n",
        "    #n-->no_if input features-->number of columns\n",
        "    self.m,self,n=X.shape\n",
        "\n",
        "   #initiating the weight value and the bias value\n",
        "    self.w=np.zeros(self.n)\n",
        "    # weight is the  set of values wheeras bias is single value\n",
        "\n",
        "    self.b=0\n",
        "\n",
        "    self.X = X\n",
        "    self.Y = Y\n",
        "\n",
        "    # calculate the gradient descent value\n",
        "\n",
        "    for i in range(self.no_of_iterations):\n",
        "      self.update_weights()\n",
        "\n",
        "\n",
        "  def update_weights(self):\n",
        "    #here we can call this as a label encoding\n",
        "    y_label=np.where(self.Y <=0,-1,1)\n",
        "\n",
        "    for index,x_i in enumerate(self.X):\n",
        "      condition = y_label[index] * (np.dot(x_i, self.w) - self.b) >= 1\n",
        "\n",
        "\n",
        "      if(condition==True):\n",
        "         dw = 2 * self.lambda_parameter * self.w\n",
        "         db=0\n",
        "\n",
        "      else:\n",
        "        dw = 2 * self.lambda_parameter * self.w - np.dot(x_i, y_label[index])\n",
        "        db = y_label[index]\n",
        "\n",
        "\n",
        "      self.w=self.w-self.learning_rate*dw\n",
        "      self.b=self.b-self.learning_rate*db\n",
        "\n",
        "\n",
        "\n",
        "\n",
        "\n",
        "      def predict(self,X):\n",
        "        output=np.dot(X,self.w)-self.b\n",
        "        predict_labels=np.sign(output)\n",
        "\n",
        "        y_hat=np.where(predict_labels<=-1,0,1)\n",
        "\n",
        "        return y_hat\n",
        "\n",
        "\n",
        "\n",
        "\n",
        "\n",
        "\n",
        "\n",
        "\n",
        "\n",
        "\n",
        "\n",
        "\n"
      ],
      "metadata": {
        "id": "7acnVTXr4yDN"
      },
      "execution_count": 9,
      "outputs": []
    },
    {
      "cell_type": "code",
      "source": [],
      "metadata": {
        "id": "F5LLeT74AemI"
      },
      "execution_count": 1,
      "outputs": []
    },
    {
      "cell_type": "code",
      "source": [
        "model=SVM_classifier(learning_rate=0.001,no_of_iterations=1000, lamda_parameter=0.01)\n"
      ],
      "metadata": {
        "id": "ETzT42_L6vk3"
      },
      "execution_count": 10,
      "outputs": []
    },
    {
      "cell_type": "code",
      "source": [
        "my_list=[10,20,30,40,50]\n",
        "\n",
        "\n",
        "for i,my_list_i in enumerate(my_list):\n",
        "  print(i, my_list_i)"
      ],
      "metadata": {
        "colab": {
          "base_uri": "https://localhost:8080/"
        },
        "id": "eOlbzTC-AgoF",
        "outputId": "e5b1cd26-07ad-4826-fc50-fd9ea6817109"
      },
      "execution_count": 8,
      "outputs": [
        {
          "output_type": "stream",
          "name": "stdout",
          "text": [
            "0 10\n",
            "1 20\n",
            "2 30\n",
            "3 40\n",
            "4 50\n"
          ]
        }
      ]
    },
    {
      "cell_type": "code",
      "source": [],
      "metadata": {
        "id": "9ayGWVhpA2bF"
      },
      "execution_count": null,
      "outputs": []
    }
  ]
}