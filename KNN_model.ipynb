{
  "nbformat": 4,
  "nbformat_minor": 0,
  "metadata": {
    "colab": {
      "provenance": [],
      "authorship_tag": "ABX9TyPvdOuNjAuQyyy3yItNamYm",
      "include_colab_link": true
    },
    "kernelspec": {
      "name": "python3",
      "display_name": "Python 3"
    },
    "language_info": {
      "name": "python"
    }
  },
  "cells": [
    {
      "cell_type": "markdown",
      "metadata": {
        "id": "view-in-github",
        "colab_type": "text"
      },
      "source": [
        "<a href=\"https://colab.research.google.com/github/glitcher007/Machine_Learning/blob/main/Untitled10.ipynb\" target=\"_parent\"><img src=\"https://colab.research.google.com/assets/colab-badge.svg\" alt=\"Open In Colab\"/></a>"
      ]
    },
    {
      "cell_type": "code",
      "execution_count": 1,
      "metadata": {
        "id": "yhKX6dLUvo7f"
      },
      "outputs": [],
      "source": [
        "import numpy as np\n",
        "import statistics"
      ]
    },
    {
      "cell_type": "code",
      "source": [
        "class KNN_Classifier():\n",
        "\n",
        "  def __init__(self,distance_metric):\n",
        "    self.distance_metric=distance_metric\n",
        "\n",
        "  def get_distance_metric(self,training_data_point,test_data_point):\n",
        "\n",
        "     if(self.distance_metric=='euclidean'):\n",
        "      dist=0\n",
        "      # did -1 coz subtract all except the point itself\n",
        "      for i in range(len(training_data_point-1)):\n",
        "        dist=dist+(training_data_point[i]-test_data_point[i])**2\n",
        "      euclidean_dist=np.sqrt(dist)\n",
        "      return euclidean_dist\n",
        "\n",
        "\n",
        "  def nearest_neighbors(self,X_train, test_data, k):\n",
        "    distance_list=[]\n",
        "\n",
        "\n",
        "    for training_data in X_train:\n",
        "\n",
        "      distance=self.get_distance_metric(training_data,test_data)\n",
        "      distance_list.append(training_data,distance)\n",
        "\n",
        "\n",
        "    distance_list.sort(key=lambda x:x[1])\n",
        "\n",
        "    neighbors_list=[]\n",
        "\n",
        "    for j in range(k):\n",
        "      neighbors_list.append(distance_list[j][0])\n",
        "\n",
        "    return neighbors_list\n",
        "\n",
        "\n",
        "  def predict(self,X_train,test_data,k):\n",
        "    neighbors=self.nearest_neighbors(X_train,test_data,k)\n",
        "\n",
        "\n",
        "    for data in neighbors:\n",
        "      label=[]\n",
        "      label.append(data[-1])\n",
        "\n",
        "    predicted_class=statistics.mode(label)\n",
        "\n",
        "    return predicted_class\n",
        "\n",
        "\n",
        "\n",
        "\n",
        "\n",
        "\n",
        "\n",
        "\n",
        "\n",
        "\n",
        "\n",
        "\n",
        "\n",
        "\n",
        "\n",
        "\n",
        "\n",
        "\n",
        "\n",
        "\n",
        "\n",
        "\n",
        "\n",
        "\n"
      ],
      "metadata": {
        "id": "oBnM7NoqwIlP"
      },
      "execution_count": 4,
      "outputs": []
    },
    {
      "cell_type": "code",
      "source": [],
      "metadata": {
        "id": "GubmjN3EzDUq"
      },
      "execution_count": null,
      "outputs": []
    }
  ]
}
